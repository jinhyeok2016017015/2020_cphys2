{
 "cells": [
  {
   "cell_type": "markdown",
   "metadata": {},
   "source": [
    "Multi-Layer Perceptron (MLP)"
   ]
  },
  {
   "cell_type": "code",
   "execution_count": 19,
   "metadata": {},
   "outputs": [],
   "source": [
    "from tensorflow import keras\n",
    "from keras import models \n",
    "from keras import layers\n",
    "import numpy as np\n",
    "import matplotlib.pyplot as plt\n",
    "from keras.utils import to_categorical\n",
    "from keras.datasets import fashion_mnist"
   ]
  },
  {
   "cell_type": "code",
   "execution_count": 21,
   "metadata": {},
   "outputs": [],
   "source": [
    "(X_train, y_train), (X_test, y_test) = fashion_mnist.load_data()\n",
    "y_train=to_categorical(y_train)\n",
    "y_test=to_categorical(y_test)\n",
    "\n",
    "# preprocessing\n",
    "X_train = X_train.reshape((60000, 28*28))\n",
    "X_train = X_train/255\n",
    "\n",
    "X_test = X_test.reshape((10000, 28*28))\n",
    "X_test = X_test/255\n",
    "\n",
    "net = models.Sequential()\n",
    "net.add(layers.Dense(512, activation='relu', input_shape=(28*28,))) \n",
    "net.add(layers.Dense(512, activation='relu')) \n",
    "net.add(layers.Dropout(0.5))\n",
    "net.add(layers.Dense(512, activation='relu')) \n",
    "net.add(layers.Dropout(0.5))\n",
    "net.add(layers.Dense(10, activation='softmax')) \n",
    "net.compile(optimizer='nadam',loss='categorical_crossentropy',metrics=['acc'])"
   ]
  },
  {
   "cell_type": "code",
   "execution_count": 22,
   "metadata": {},
   "outputs": [],
   "source": [
    "X_val = X_train[:10000]\n",
    "partial_X_train = X_train[10000:]\n",
    "\n",
    "y_val = y_train[:10000]\n",
    "partial_y_train = y_train[10000:]"
   ]
  },
  {
   "cell_type": "code",
   "execution_count": 23,
   "metadata": {},
   "outputs": [
    {
     "name": "stdout",
     "output_type": "stream",
     "text": [
      "Train on 50000 samples, validate on 10000 samples\n",
      "Epoch 1/10\n",
      "50000/50000 [==============================] - 16s 314us/step - loss: 0.5788 - acc: 0.7931 - val_loss: 0.6634 - val_acc: 0.7750\n",
      "Epoch 2/10\n",
      "50000/50000 [==============================] - 15s 293us/step - loss: 0.4209 - acc: 0.8523 - val_loss: 0.3757 - val_acc: 0.8573\n",
      "Epoch 3/10\n",
      "50000/50000 [==============================] - 17s 350us/step - loss: 0.3821 - acc: 0.8650 - val_loss: 0.3744 - val_acc: 0.8683\n",
      "Epoch 4/10\n",
      "50000/50000 [==============================] - 16s 314us/step - loss: 0.3626 - acc: 0.8715 - val_loss: 0.3442 - val_acc: 0.8708\n",
      "Epoch 5/10\n",
      "50000/50000 [==============================] - 15s 297us/step - loss: 0.3473 - acc: 0.8758 - val_loss: 0.3479 - val_acc: 0.8764: 0.3462\n",
      "Epoch 6/10\n",
      "50000/50000 [==============================] - 15s 291us/step - loss: 0.3397 - acc: 0.8802 - val_loss: 0.4038 - val_acc: 0.8593\n",
      "Epoch 7/10\n",
      "50000/50000 [==============================] - 15s 301us/step - loss: 0.3314 - acc: 0.8821 - val_loss: 0.3303 - val_acc: 0.8803\n",
      "Epoch 8/10\n",
      "50000/50000 [==============================] - 15s 291us/step - loss: 0.3209 - acc: 0.8850 - val_loss: 0.3573 - val_acc: 0.8711\n",
      "Epoch 9/10\n",
      "50000/50000 [==============================] - 15s 303us/step - loss: 0.3153 - acc: 0.8880 - val_loss: 0.3547 - val_acc: 0.8761\n",
      "Epoch 10/10\n",
      "50000/50000 [==============================] - 15s 302us/step - loss: 0.3108 - acc: 0.8888 - val_loss: 0.3498 - val_acc: 0.8664\n"
     ]
    }
   ],
   "source": [
    "val= net.fit(partial_X_train,partial_y_train,epochs=10, batch_size=64, validation_data=(X_val, y_val))"
   ]
  },
  {
   "cell_type": "code",
   "execution_count": 24,
   "metadata": {},
   "outputs": [
    {
     "name": "stdout",
     "output_type": "stream",
     "text": [
      "10000/10000 [==============================] - 1s 74us/step\n"
     ]
    }
   ],
   "source": [
    "test_loss, test_acc = net.evaluate(X_test,y_test)"
   ]
  },
  {
   "cell_type": "markdown",
   "metadata": {},
   "source": [
    "CNN"
   ]
  },
  {
   "cell_type": "code",
   "execution_count": 9,
   "metadata": {},
   "outputs": [],
   "source": [
    "import tensorflow as tf\n",
    "from tensorflow import keras\n",
    "from tensorflow.keras import datasets, layers, models\n",
    "\n",
    "fashion_mnist = datasets.fashion_mnist\n",
    "(train_images, train_labels), (test_images, test_labels) = fashion_mnist.load_data()\n",
    "train_images = train_images.reshape((60000, 28 , 28, 1))\n",
    "test_images = test_images.reshape((10000, 28, 28, 1))\n",
    "train_images = train_images/255.0\n",
    "test_images = test_images/255.0"
   ]
  },
  {
   "cell_type": "code",
   "execution_count": 12,
   "metadata": {},
   "outputs": [],
   "source": [
    "model = models.Sequential()\n",
    "model.add(layers.Conv2D(32, (3,3), activation='relu', input_shape=(28,28,1)))\n",
    "model.add(layers.MaxPooling2D((2,2)))\n",
    "model.add(layers.Conv2D(64, (3,3), activation='relu'))\n",
    "model.add(layers.MaxPooling2D((2,2)))\n",
    "model.add(layers.Conv2D(64, (3,3), activation='relu'))\n",
    "model.add(layers.Flatten())\n",
    "model.add(layers.Dense(64, activation='relu'))\n",
    "model.add(layers.Dense(10, activation='softmax'))\n",
    "model.compile(optimizer='adam', loss='sparse_categorical_crossentropy', metrics=['accuracy'])"
   ]
  },
  {
   "cell_type": "code",
   "execution_count": 16,
   "metadata": {
    "scrolled": true
   },
   "outputs": [
    {
     "name": "stdout",
     "output_type": "stream",
     "text": [
      "Epoch 1/10\n",
      "60000/60000 [==============================] - 29s 485us/sample - loss: 0.0933 - acc: 0.9654\n",
      "Epoch 2/10\n",
      "60000/60000 [==============================] - 29s 475us/sample - loss: 0.0844 - acc: 0.9677\n",
      "Epoch 3/10\n",
      "60000/60000 [==============================] - 28s 466us/sample - loss: 0.0784 - acc: 0.9700\n",
      "Epoch 4/10\n",
      "60000/60000 [==============================] - 28s 469us/sample - loss: 0.0765 - acc: 0.9712\n",
      "Epoch 5/10\n",
      "60000/60000 [==============================] - 29s 479us/sample - loss: 0.0711 - acc: 0.9741\n",
      "Epoch 6/10\n",
      "60000/60000 [==============================] - 28s 475us/sample - loss: 0.0652 - acc: 0.9748\n",
      "Epoch 7/10\n",
      "60000/60000 [==============================] - 28s 471us/sample - loss: 0.0627 - acc: 0.9764\n",
      "Epoch 8/10\n",
      "60000/60000 [==============================] - 28s 464us/sample - loss: 0.0626 - acc: 0.9768 - loss: 0.0627 - acc: 0.9\n",
      "Epoch 9/10\n",
      "60000/60000 [==============================] - 28s 461us/sample - loss: 0.0566 - acc: 0.9786\n",
      "Epoch 10/10\n",
      "60000/60000 [==============================] - 28s 470us/sample - loss: 0.0560 - acc: 0.9790\n"
     ]
    },
    {
     "data": {
      "text/plain": [
       "<tensorflow.python.keras.callbacks.History at 0x1dc54d14ec8>"
      ]
     },
     "execution_count": 16,
     "metadata": {},
     "output_type": "execute_result"
    }
   ],
   "source": [
    "model.fit(train_images, train_labels, epochs=10)"
   ]
  },
  {
   "cell_type": "code",
   "execution_count": 17,
   "metadata": {},
   "outputs": [
    {
     "name": "stdout",
     "output_type": "stream",
     "text": [
      "10000/10000 [==============================] - 1s 130us/sample - loss: 0.5076 - acc: 0.9089\n"
     ]
    }
   ],
   "source": [
    "test_loss, test_acc = model.evaluate(test_images, test_labels)"
   ]
  },
  {
   "cell_type": "markdown",
   "metadata": {},
   "source": [
    "MLP의 값보다 CNN을 이용한 값이 더 높은 것을 확인 할 수 있다."
   ]
  },
  {
   "cell_type": "code",
   "execution_count": null,
   "metadata": {},
   "outputs": [],
   "source": []
  }
 ],
 "metadata": {
  "kernelspec": {
   "display_name": "Python 3",
   "language": "python",
   "name": "python3"
  },
  "language_info": {
   "codemirror_mode": {
    "name": "ipython",
    "version": 3
   },
   "file_extension": ".py",
   "mimetype": "text/x-python",
   "name": "python",
   "nbconvert_exporter": "python",
   "pygments_lexer": "ipython3",
   "version": "3.7.6"
  }
 },
 "nbformat": 4,
 "nbformat_minor": 4
}
