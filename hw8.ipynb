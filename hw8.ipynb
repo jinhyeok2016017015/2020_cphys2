{
 "cells": [
  {
   "cell_type": "markdown",
   "metadata": {},
   "source": [
    "1. MNIST Digits"
   ]
  },
  {
   "cell_type": "code",
   "execution_count": 73,
   "metadata": {},
   "outputs": [],
   "source": [
    "from keras.datasets import mnist\n",
    "from tensorflow import keras\n",
    "from keras import models \n",
    "from keras import layers\n",
    "import numpy as np\n",
    "import matplotlib.pyplot as plt\n",
    "from keras.utils import to_categorical\n",
    "\n",
    "(X, y), (Xtest, y_test) = mnist.load_data()\n",
    "y_train=to_categorical(y)\n",
    "y_test=to_categorical(y_test)"
   ]
  },
  {
   "cell_type": "code",
   "execution_count": 3,
   "metadata": {},
   "outputs": [],
   "source": [
    "net = models.Sequential()\n",
    "net.add(layers.Dense(10, activation='softmax', input_shape=(28*28,)))\n",
    "net.compile(optimizer='sgd',loss='categorical_crossentropy',metrics=['accuracy'])"
   ]
  },
  {
   "cell_type": "code",
   "execution_count": 4,
   "metadata": {},
   "outputs": [],
   "source": [
    "X_train = X.reshape((60000, 28*28))\n",
    "X_train = X_train/255\n",
    "\n",
    "X_test = Xtest.reshape((10000, 28*28))\n",
    "X_test = X_test/255"
   ]
  },
  {
   "cell_type": "code",
   "execution_count": 5,
   "metadata": {},
   "outputs": [
    {
     "name": "stdout",
     "output_type": "stream",
     "text": [
      "WARNING:tensorflow:From D:\\anaconda 3\\lib\\site-packages\\keras\\backend\\tensorflow_backend.py:422: The name tf.global_variables is deprecated. Please use tf.compat.v1.global_variables instead.\n",
      "\n",
      "Epoch 1/20\n",
      "60000/60000 [==============================] - 2s 33us/step - loss: 0.7818 - accuracy: 0.8145\n",
      "Epoch 2/20\n",
      "60000/60000 [==============================] - 1s 23us/step - loss: 0.4563 - accuracy: 0.8802\n",
      "Epoch 3/20\n",
      "60000/60000 [==============================] - 2s 25us/step - loss: 0.4033 - accuracy: 0.8918\n",
      "Epoch 4/20\n",
      "60000/60000 [==============================] - 1s 24us/step - loss: 0.3768 - accuracy: 0.8970\n",
      "Epoch 5/20\n",
      "60000/60000 [==============================] - 2s 26us/step - loss: 0.3600 - accuracy: 0.9005\n",
      "Epoch 6/20\n",
      "60000/60000 [==============================] - 1s 24us/step - loss: 0.3482 - accuracy: 0.9036\n",
      "Epoch 7/20\n",
      "60000/60000 [==============================] - 2s 26us/step - loss: 0.3391 - accuracy: 0.9061\n",
      "Epoch 8/20\n",
      "60000/60000 [==============================] - 1s 23us/step - loss: 0.3320 - accuracy: 0.9075\n",
      "Epoch 9/20\n",
      "60000/60000 [==============================] - 1s 23us/step - loss: 0.3262 - accuracy: 0.9091\n",
      "Epoch 10/20\n",
      "60000/60000 [==============================] - 1s 24us/step - loss: 0.3213 - accuracy: 0.9110\n",
      "Epoch 11/20\n",
      "60000/60000 [==============================] - 1s 24us/step - loss: 0.3170 - accuracy: 0.9122\n",
      "Epoch 12/20\n",
      "60000/60000 [==============================] - 1s 23us/step - loss: 0.3134 - accuracy: 0.9135\n",
      "Epoch 13/20\n",
      "60000/60000 [==============================] - 1s 23us/step - loss: 0.3103 - accuracy: 0.9138\n",
      "Epoch 14/20\n",
      "60000/60000 [==============================] - 2s 27us/step - loss: 0.3072 - accuracy: 0.9151\n",
      "Epoch 15/20\n",
      "60000/60000 [==============================] - 1s 25us/step - loss: 0.3047 - accuracy: 0.9155\n",
      "Epoch 16/20\n",
      "60000/60000 [==============================] - 2s 26us/step - loss: 0.3025 - accuracy: 0.9163\n",
      "Epoch 17/20\n",
      "60000/60000 [==============================] - 1s 22us/step - loss: 0.3003 - accuracy: 0.9168\n",
      "Epoch 18/20\n",
      "60000/60000 [==============================] - 1s 24us/step - loss: 0.2983 - accuracy: 0.9171\n",
      "Epoch 19/20\n",
      "60000/60000 [==============================] - 1s 25us/step - loss: 0.2966 - accuracy: 0.9174\n",
      "Epoch 20/20\n",
      "60000/60000 [==============================] - 2s 25us/step - loss: 0.2949 - accuracy: 0.9175\n"
     ]
    },
    {
     "data": {
      "text/plain": [
       "<keras.callbacks.callbacks.History at 0x2b43fed9308>"
      ]
     },
     "execution_count": 5,
     "metadata": {},
     "output_type": "execute_result"
    }
   ],
   "source": [
    "net.fit(X_train, y_train, epochs=20)"
   ]
  },
  {
   "cell_type": "code",
   "execution_count": 6,
   "metadata": {},
   "outputs": [
    {
     "data": {
      "text/plain": [
       "<matplotlib.image.AxesImage at 0x2b441466ac8>"
      ]
     },
     "execution_count": 6,
     "metadata": {},
     "output_type": "execute_result"
    },
    {
     "data": {
      "image/png": "[encoded data removed]",
      "text/plain": [
       "<Figure size 432x288 with 1 Axes>"
      ]
     },
     "metadata": {
      "needs_background": "light"
     },
     "output_type": "display_data"
    }
   ],
   "source": [
    "plt.imshow(Xtest[4])"
   ]
  },
  {
   "cell_type": "code",
   "execution_count": 7,
   "metadata": {},
   "outputs": [
    {
     "data": {
      "text/plain": [
       "4"
      ]
     },
     "execution_count": 7,
     "metadata": {},
     "output_type": "execute_result"
    }
   ],
   "source": [
    "np.argmax(net.predict(X_test)[4])"
   ]
  },
  {
   "cell_type": "code",
   "execution_count": 8,
   "metadata": {},
   "outputs": [
    {
     "data": {
      "text/plain": [
       "array([0., 0., 0., 0., 1., 0., 0., 0., 0., 0.], dtype=float32)"
      ]
     },
     "execution_count": 8,
     "metadata": {},
     "output_type": "execute_result"
    }
   ],
   "source": [
    "y_test[4]"
   ]
  },
  {
   "cell_type": "code",
   "execution_count": 9,
   "metadata": {},
   "outputs": [
    {
     "name": "stdout",
     "output_type": "stream",
     "text": [
      "10000/10000 [==============================] - 0s 15us/step\n"
     ]
    },
    {
     "data": {
      "text/plain": [
       "[0.28726985444426534, 0.919700026512146]"
      ]
     },
     "execution_count": 9,
     "metadata": {},
     "output_type": "execute_result"
    }
   ],
   "source": [
    "net.evaluate(X_test,y_test)"
   ]
  },
  {
   "cell_type": "markdown",
   "metadata": {},
   "source": [
    "2. Fashin MNIST "
   ]
  },
  {
   "cell_type": "code",
   "execution_count": 74,
   "metadata": {},
   "outputs": [],
   "source": [
    "from keras.datasets import fashion_mnist\n",
    "import tensorflow as tf\n",
    "\n",
    "(X, y), (X_test, y_test) = fashion_mnist.load_data()"
   ]
  },
  {
   "cell_type": "code",
   "execution_count": 75,
   "metadata": {},
   "outputs": [
    {
     "data": {
      "text/plain": [
       "(60000, 28, 28)"
      ]
     },
     "execution_count": 75,
     "metadata": {},
     "output_type": "execute_result"
    }
   ],
   "source": [
    "X.shape"
   ]
  },
  {
   "cell_type": "code",
   "execution_count": 76,
   "metadata": {},
   "outputs": [
    {
     "data": {
      "text/plain": [
       "(9, <matplotlib.image.AxesImage at 0x2b45d91cf48>)"
      ]
     },
     "execution_count": 76,
     "metadata": {},
     "output_type": "execute_result"
    },
    {
     "data": {
      "image/png": "[encoded data removed]",
      "text/plain": [
       "<Figure size 432x288 with 1 Axes>"
      ]
     },
     "metadata": {
      "needs_background": "light"
     },
     "output_type": "display_data"
    }
   ],
   "source": [
    "y[0], plt.imshow(X[0],cmap=plt.cm.binary)"
   ]
  },
  {
   "cell_type": "code",
   "execution_count": 77,
   "metadata": {},
   "outputs": [
    {
     "data": {
      "text/plain": [
       "(0, <matplotlib.image.AxesImage at 0x2b43ff8c508>)"
      ]
     },
     "execution_count": 77,
     "metadata": {},
     "output_type": "execute_result"
    },
    {
     "data": {
      "image/png": "[encoded data removed]",
      "text/plain": [
       "<Figure size 432x288 with 1 Axes>"
      ]
     },
     "metadata": {
      "needs_background": "light"
     },
     "output_type": "display_data"
    }
   ],
   "source": [
    "y[1], plt.imshow(X[1],cmap=plt.cm.binary)"
   ]
  },
  {
   "cell_type": "code",
   "execution_count": 78,
   "metadata": {},
   "outputs": [],
   "source": [
    "X = X/255.0\n",
    "y = y/255.0"
   ]
  },
  {
   "cell_type": "code",
   "execution_count": 82,
   "metadata": {},
   "outputs": [],
   "source": [
    "model = keras.Sequential()\n",
    "model.add(keras.layers.Flatten(input_shape=(28,28)))\n",
    "model.add(keras.layers.Dense(128, activation='relu'))\n",
    "model.add(keras.layers.Dense(10, activation='softmax'))\n",
    "model.compile(optimizer='adam',loss='sparse_categorical_crossentropy',metrics=['accuracy'])"
   ]
  },
  {
   "cell_type": "code",
   "execution_count": 83,
   "metadata": {},
   "outputs": [
    {
     "name": "stdout",
     "output_type": "stream",
     "text": [
      "Epoch 1/20\n",
      "60000/60000 [==============================] - 3s 45us/sample - loss: 0.0023 - acc: 0.1000\n",
      "Epoch 2/20\n",
      "60000/60000 [==============================] - 3s 45us/sample - loss: 1.7800e-06 - acc: 0.1000\n",
      "Epoch 3/20\n",
      "60000/60000 [==============================] - 3s 48us/sample - loss: 5.0260e-07 - acc: 0.1000\n",
      "Epoch 4/20\n",
      "60000/60000 [==============================] - 3s 55us/sample - loss: 1.4953e-07 - acc: 0.1000\n",
      "Epoch 5/20\n",
      "60000/60000 [==============================] - 3s 58us/sample - loss: 4.9344e-08 - acc: 0.1000\n",
      "Epoch 6/20\n",
      "60000/60000 [==============================] - 4s 60us/sample - loss: 2.2220e-08 - acc: 0.1000\n",
      "Epoch 7/20\n",
      "60000/60000 [==============================] - 3s 46us/sample - loss: 9.1740e-09 - acc: 0.1000\n",
      "Epoch 8/20\n",
      "60000/60000 [==============================] - 3s 45us/sample - loss: 3.8464e-09 - acc: 0.1000\n",
      "Epoch 9/20\n",
      "60000/60000 [==============================] - 3s 45us/sample - loss: 1.7424e-09 - acc: 0.1000\n",
      "Epoch 10/20\n",
      "60000/60000 [==============================] - 3s 46us/sample - loss: 9.3976e-10 - acc: 0.1000\n",
      "Epoch 11/20\n",
      "60000/60000 [==============================] - 3s 43us/sample - loss: 5.2253e-10 - acc: 0.1000\n",
      "Epoch 12/20\n",
      "60000/60000 [==============================] - 3s 43us/sample - loss: 3.4769e-10 - acc: 0.1000\n",
      "Epoch 13/20\n",
      "60000/60000 [==============================] - 3s 43us/sample - loss: 2.2650e-10 - acc: 0.1000\n",
      "Epoch 14/20\n",
      "60000/60000 [==============================] - 3s 47us/sample - loss: 1.6292e-10 - acc: 0.1000\n",
      "Epoch 15/20\n",
      "60000/60000 [==============================] - 3s 47us/sample - loss: 1.2716e-10 - acc: 0.1000\n",
      "Epoch 16/20\n",
      "60000/60000 [==============================] - 3s 44us/sample - loss: 1.0133e-10 - acc: 0.1000\n",
      "Epoch 17/20\n",
      "60000/60000 [==============================] - 3s 45us/sample - loss: 8.9407e-11 - acc: 0.1000\n",
      "Epoch 18/20\n",
      "60000/60000 [==============================] - 3s 45us/sample - loss: 7.9473e-11 - acc: 0.1000\n",
      "Epoch 19/20\n",
      "60000/60000 [==============================] - 3s 46us/sample - loss: 6.9539e-11 - acc: 0.1000\n",
      "Epoch 20/20\n",
      "60000/60000 [==============================] - 3s 44us/sample - loss: 6.5565e-11 - acc: 0.1000\n"
     ]
    },
    {
     "data": {
      "text/plain": [
       "<tensorflow.python.keras.callbacks.History at 0x2b443424b08>"
      ]
     },
     "execution_count": 83,
     "metadata": {},
     "output_type": "execute_result"
    }
   ],
   "source": [
    "model.fit(X,y,epochs=20)"
   ]
  },
  {
   "cell_type": "code",
   "execution_count": 86,
   "metadata": {},
   "outputs": [
    {
     "name": "stdout",
     "output_type": "stream",
     "text": [
      "10000/10000 [==============================] - 0s 21us/sample - loss: 27348.7115 - acc: 0.1000\n"
     ]
    },
    {
     "data": {
      "text/plain": [
       "[27348.711475, 0.1]"
      ]
     },
     "execution_count": 86,
     "metadata": {},
     "output_type": "execute_result"
    }
   ],
   "source": [
    "model.evaluate(X_test,y_test)"
   ]
  }
 ],
 "metadata": {
  "kernelspec": {
   "display_name": "Python 3",
   "language": "python",
   "name": "python3"
  },
  "language_info": {
   "codemirror_mode": {
    "name": "ipython",
    "version": 3
   },
   "file_extension": ".py",
   "mimetype": "text/x-python",
   "name": "python",
   "nbconvert_exporter": "python",
   "pygments_lexer": "ipython3",
   "version": "3.7.6"
  }
 },
 "nbformat": 4,
 "nbformat_minor": 4
}
